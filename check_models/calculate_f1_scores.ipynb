{
 "cells": [
  {
   "cell_type": "code",
   "execution_count": 1,
   "id": "95e935da-d2c7-4fc5-b68e-9a3213b1300b",
   "metadata": {},
   "outputs": [],
   "source": [
    "import pandas as pd\n",
    "import numpy as np\n",
    "from sklearn.metrics import f1_score, roc_auc_score, precision_score, recall_score\n",
    "\n",
    "import matplotlib.pyplot as plt"
   ]
  },
  {
   "cell_type": "code",
   "execution_count": 72,
   "id": "0aae5a8c-696e-4dcb-a712-b08adb694c9a",
   "metadata": {},
   "outputs": [],
   "source": [
    "FOLDS = 3\n",
    "\n",
    "def calculateF1Scores(df, label):\n",
    "    f1score_only_above05 = []\n",
    "    prec = []\n",
    "    rec = []\n",
    "    seed_list = []\n",
    "\n",
    "    for seed in range(FOLDS):\n",
    "        df_part = df[df[\"seed\"] == seed].copy()\n",
    "        f1score_1 = f1_score(df_part[label],\n",
    "                                   np.where(df_part[\"pred\"].values >= 0.5, 1, 0), zero_division=0)\n",
    "        recall = recall_score(df_part[label],\n",
    "                                   np.where(df_part[\"pred\"].values >= 0.5, 1, 0))\n",
    "        precision = precision_score(df_part[label],\n",
    "                                   np.where(df_part[\"pred\"].values >= 0.5, 1, 0))\n",
    "        \n",
    "        f1score_only_above05.append(f1score_1)\n",
    "        rec.append(recall)\n",
    "        prec.append(precision)\n",
    "\n",
    "        seed_list.append(seed)\n",
    "\n",
    "    f1_scores = pd.DataFrame({\n",
    "    'seed': seed_list,\n",
    "    'f1score': f1score_only_above05,\n",
    "    'recall': rec,\n",
    "    'precision': prec        \n",
    "        \n",
    "    })\n",
    "\n",
    "    return f1_scores\n",
    "\n",
    "def calcF1_multiClass(df, allClasses, prediction):\n",
    "    f1 = []\n",
    "    for seed in range(FOLDS):\n",
    "        df_part = df[df[\"seed\"] == seed].copy()\n",
    "        f1.append(f1_score(df_part[allClasses], df_part[[prediction + c for c in allClasses]], zero_division=0, average='macro'))\n",
    "    \n",
    "    return f1\n"
   ]
  },
  {
   "cell_type": "markdown",
   "id": "e56cafd8-82a1-4524-81a9-f90083afa605",
   "metadata": {},
   "source": [
    "### Relevance"
   ]
  },
  {
   "cell_type": "code",
   "execution_count": 74,
   "id": "c47586c5-e78b-4ca6-b5e9-c315bf90a9fd",
   "metadata": {},
   "outputs": [],
   "source": [
    "bert = pd.read_csv(\"/home/sarah/projects/nets_climatebert/data/2023-04-06_test_predicted_relevant_Hyperparam_3fold.csv\")\n",
    "huberSDG = pd.read_csv(\"/home/sarah/projects/nets_climatebert/data/2023-07-05_test_relevant_predicted_sklearn.csv\") \n",
    "distilbert = pd.read_csv(\"/home/sarah/projects/nets_climatebert/data/2023-07-04_test_predicted_relevant_distilbert.csv\") \n",
    "\n",
    "bert_f1 = calculateF1Scores(bert, 'label_3')[:3]\n",
    "distil_f1 = calculateF1Scores(distilbert, 'label_3')[:3]\n",
    "sdg_f1 = calculateF1Scores(huberSDG, 'label_3')[:3]"
   ]
  },
  {
   "cell_type": "code",
   "execution_count": 77,
   "id": "efe67a65-a002-4ea5-8074-ccbc1518312f",
   "metadata": {},
   "outputs": [
    {
     "name": "stdout",
     "output_type": "stream",
     "text": [
      "F1 mean\n",
      "0.9068482684526505\n",
      "0.8974247544038305\n",
      "0.8767964917647023\n",
      "F1 stdv\n",
      "0.0075669546807272045\n",
      "0.007413216446246565\n",
      "0.005986364125556633\n",
      "recall\n",
      "0.9340233085184364\n",
      "0.00482928192947384\n",
      "precision\n",
      "0.8814055699103509\n",
      "0.018515303998170876\n"
     ]
    }
   ],
   "source": [
    "print('F1 mean')\n",
    "print(bert_f1.f1score.mean())\n",
    "print(distil_f1.f1score.mean())\n",
    "print(sdg_f1.f1score.mean())\n",
    "print('F1 stdv')\n",
    "print(bert_f1.f1score.std())\n",
    "print(distil_f1.f1score.std())\n",
    "print(sdg_f1.f1score.std())\n",
    "print('recall')\n",
    "print(bert_f1.recall.mean())\n",
    "print(bert_f1.recall.std())\n",
    "print('precision')\n",
    "print(bert_f1.precision.mean())\n",
    "print(bert_f1.precision.std())\n"
   ]
  },
  {
   "cell_type": "markdown",
   "id": "aa1b4f36-159d-45ed-a0a7-c5099b9ac920",
   "metadata": {},
   "source": [
    "### Technology"
   ]
  },
  {
   "cell_type": "code",
   "execution_count": 68,
   "id": "9b0d9f48-c0e0-4aed-9088-b49cb9c57d78",
   "metadata": {},
   "outputs": [],
   "source": [
    "bert = pd.read_csv(\"/home/sarah/projects/nets_climatebert/data/2023-03-20_test_predicted_tech_unbalanced_hyperparamTuning.csv\")\n",
    "distilbert = pd.read_csv(\"/home/sarah/projects/nets_climatebert/data/2023-07-05_test_predicted_tech_distilbert.csv\") \n",
    "huberSDG = pd.read_csv(\"/home/sarah/projects/nets_climatebert/data/2023-07-05_test_tech_predicted_sklearn.csv\") \n",
    "\n",
    "allClasses = [i.split(\"predOptimal_\")[1] for i in bert.columns if \"predOptimal\" in i]\n",
    "\n",
    "bert_f1 = calcF1_multiClass(bert, allClasses,\"pred_\")\n",
    "bert_opt_f1 = calcF1_multiClass(bert, allClasses,\"predOptimal_\")\n",
    "distil_f1 = calcF1_multiClass(distilbert, allClasses,\"pred_\")\n",
    "sdg_f1 = calcF1_multiClass(huberSDG, allClasses,\"pred_\")"
   ]
  },
  {
   "cell_type": "code",
   "execution_count": 69,
   "id": "1f2ac59d-b9fa-4139-82a2-1e17bf094c3f",
   "metadata": {},
   "outputs": [
    {
     "name": "stdout",
     "output_type": "stream",
     "text": [
      "F1 mean\n",
      "0.7110780534534507\n",
      "0.7663630625992921\n",
      "0.5296153066278994\n",
      "0.689104781223617\n",
      "F1 stdv\n",
      "0.08569219004098673\n",
      "0.07403815973533164\n",
      "0.00980357681337249\n",
      "0.006215094002978524\n"
     ]
    }
   ],
   "source": [
    "print('F1 mean')\n",
    "print(np.mean(bert_f1))\n",
    "print(np.mean(bert_opt_f1))\n",
    "print(np.mean(distil_f1))\n",
    "print(np.mean(sdg_f1))\n",
    "print('F1 stdv')\n",
    "print(np.std(bert_f1))\n",
    "print(np.std(bert_opt_f1))\n",
    "print(np.std(distil_f1))\n",
    "print(np.std(sdg_f1))"
   ]
  },
  {
   "cell_type": "markdown",
   "id": "c48b114c-6668-4ece-93c3-0cc3d9780fff",
   "metadata": {},
   "source": [
    "### Methods"
   ]
  },
  {
   "cell_type": "code",
   "execution_count": 62,
   "id": "79eaeafc-50de-42ab-9de5-304ecc7f8a2e",
   "metadata": {},
   "outputs": [],
   "source": [
    "bert = pd.read_csv(\"/home/sarah/projects/nets_climatebert/data/2023-04-11_test_meth_predicted_unbalanced_hyperparamTuning_3fold.csv\")\n",
    "distilbert = pd.read_csv(\"/home/sarah/projects/nets_climatebert/data/2023-07-05_test_predicted_methods_distilbert.csv\") \n",
    "huberSDG = pd.read_csv(\"/home/sarah/projects/nets_climatebert/data/2023-07-05_test_meth_predicted_sklearn.csv\") \n",
    "\n",
    "allClasses_old = [i.split(\"predOptimal_\")[1] for i in bert.columns if \"predOptimal\" in i]\n",
    "allClasses_new = [i.split(\"predProba_\")[1] for i in distilbert.columns if \"predProba\" in i]\n",
    "\n",
    "\n",
    "bert_f1 = calcF1_multiClass(bert, allClasses_old,\"pred_\")\n",
    "bert_opt_f1 = calcF1_multiClass(bert, allClasses_old,\"predOptimal_\")\n",
    "distil_f1 = calcF1_multiClass(distilbert, allClasses_new,\"pred_\")\n",
    "sdg_f1 = calcF1_multiClass(huberSDG, allClasses_new,\"pred_\")"
   ]
  },
  {
   "cell_type": "code",
   "execution_count": 63,
   "id": "29a3f921-6578-42fd-8b6a-fb695c47a159",
   "metadata": {},
   "outputs": [
    {
     "name": "stdout",
     "output_type": "stream",
     "text": [
      "F1 mean\n",
      "0.6433859082107366\n",
      "0.6741652830385659\n",
      "0.389035833784577\n",
      "0.4911498207572374\n",
      "F1 stdv\n",
      "0.11562016286453528\n",
      "0.1282143828077215\n",
      "0.01593315027787941\n",
      "0.04283076244847008\n"
     ]
    }
   ],
   "source": [
    "print('F1 mean')\n",
    "print(np.mean(bert_f1))\n",
    "print(np.mean(bert_opt_f1))\n",
    "print(np.mean(distil_f1))\n",
    "print(np.mean(sdg_f1))\n",
    "print('F1 stdv')\n",
    "print(np.std(bert_f1))\n",
    "print(np.std(bert_opt_f1))\n",
    "print(np.std(distil_f1))\n",
    "print(np.std(sdg_f1))"
   ]
  },
  {
   "cell_type": "markdown",
   "id": "bb747fcd-70a6-4a89-8798-ed17e718a77d",
   "metadata": {},
   "source": [
    "### Context"
   ]
  },
  {
   "cell_type": "code",
   "execution_count": 70,
   "id": "e4f0e1e2-e159-4ea3-bd7d-2b98dc8619e7",
   "metadata": {},
   "outputs": [],
   "source": [
    "bert = pd.read_csv(\"/home/sarah/projects/nets_climatebert/data/2023-03-20_test_predicted_tech_unbalanced_hyperparamTuning.csv\")\n",
    "distilbert = pd.read_csv(\"/home/sarah/projects/nets_climatebert/data/2023-07-05_test_predicted_tech_distilbert.csv\") \n",
    "huberSDG = pd.read_csv(\"/home/sarah/projects/nets_climatebert/data/2023-07-05_test_tech_predicted_sklearn.csv\") \n",
    "\n",
    "allClasses = [i.split(\"predOptimal_\")[1] for i in bert.columns if \"predOptimal\" in i]\n",
    "\n",
    "bert_f1 = calcF1_multiClass(bert, allClasses,\"pred_\")\n",
    "bert_opt_f1 = calcF1_multiClass(bert, allClasses,\"predOptimal_\")\n",
    "distil_f1 = calcF1_multiClass(distilbert, allClasses,\"pred_\")\n",
    "sdg_f1 = calcF1_multiClass(huberSDG, allClasses,\"pred_\")"
   ]
  },
  {
   "cell_type": "code",
   "execution_count": 71,
   "id": "e67df10f-130d-4370-9188-f191269ba87c",
   "metadata": {},
   "outputs": [
    {
     "name": "stdout",
     "output_type": "stream",
     "text": [
      "F1 mean\n",
      "0.7110780534534507\n",
      "0.7663630625992921\n",
      "0.5296153066278994\n",
      "0.689104781223617\n",
      "F1 stdv\n",
      "0.08569219004098673\n",
      "0.07403815973533164\n",
      "0.00980357681337249\n",
      "0.006215094002978524\n"
     ]
    }
   ],
   "source": [
    "print('F1 mean')\n",
    "print(np.mean(bert_f1))\n",
    "print(np.mean(bert_opt_f1))\n",
    "print(np.mean(distil_f1))\n",
    "print(np.mean(sdg_f1))\n",
    "print('F1 stdv')\n",
    "print(np.std(bert_f1))\n",
    "print(np.std(bert_opt_f1))\n",
    "print(np.std(distil_f1))\n",
    "print(np.std(sdg_f1))"
   ]
  }
 ],
 "metadata": {
  "kernelspec": {
   "display_name": "net-env",
   "language": "python",
   "name": "net-env"
  },
  "language_info": {
   "codemirror_mode": {
    "name": "ipython",
    "version": 3
   },
   "file_extension": ".py",
   "mimetype": "text/x-python",
   "name": "python",
   "nbconvert_exporter": "python",
   "pygments_lexer": "ipython3",
   "version": "3.8.10"
  }
 },
 "nbformat": 4,
 "nbformat_minor": 5
}
