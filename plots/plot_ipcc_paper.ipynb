{
 "cells": [
  {
   "cell_type": "code",
   "execution_count": 1,
   "id": "183c45de-d1e9-4125-8308-1ac00a5c1caa",
   "metadata": {},
   "outputs": [],
   "source": [
    "import pandas as pd\n",
    "from ast import literal_eval\n",
    "import numpy as np\n",
    "\n",
    "import matplotlib.pyplot as plt\n",
    "import matplotlib.patches as mpatches"
   ]
  },
  {
   "cell_type": "markdown",
   "id": "3be051f0-e2eb-4119-98fe-6359f30feaaf",
   "metadata": {},
   "source": [
    "### Define color schemes and orders"
   ]
  },
  {
   "cell_type": "code",
   "execution_count": 5,
   "id": "0f4c37ef-0e58-46e3-9541-92e0be7394ea",
   "metadata": {},
   "outputs": [],
   "source": [
    "tech_goodOrder = [\n",
    "    \"CCS\",\n",
    "    \"BECCS\",\n",
    "    \"DAC(CS)\",\n",
    "    \"CCUS\",\n",
    "    \"Soil Carbon Sequestration\",\n",
    "    \"AR\",\n",
    "    \"restoration of landscapes/peats\",\n",
    "    \"Agroforestry\",\n",
    "    \"Forest Management\",\n",
    "    \"Biochar\",\n",
    "    \"Enhanced Weathering (land based)\",\n",
    "    \"Ocean alkalinity enhancement\",\n",
    "    \"Blue Carbon\",\n",
    "    \"Algae farming\",\n",
    "    \"Ocean fertilization & Artificial upwelling\",\n",
    "    \"General Literature on CDR/NET\",\n",
    "    \n",
    "]\n",
    "\n",
    "exclude_technologies = [\"CCS\", \"CCUS\", \"Algae farming\",\"Other technologies\",]\n",
    "\n",
    "tech_goodOrder = [t for t in tech_goodOrder if t not in exclude_technologies]\n",
    "\n",
    "col_ccs = [\n",
    "'#e6550d',\n",
    "'#fdae6b'\n",
    "] # '#fc8d59','#d7301f']# oranges\n",
    "col_ccs.reverse() \n",
    "col_biochar =  ['#f768a1'] # violet\n",
    "col_landbased = ['#edf8e9','#bae4b3','#74c476','#31a354','#006d2c'] # greens\n",
    "col_landbased.reverse() \n",
    "col_ew_landbased =  ['#c994c7'] # bright violet\n",
    "col_ocean = ['#f1eef6','#bdc9e1','#74a9cf'] #,'#0570b0'] # blues\n",
    "col_gen_other = ['#636363', '#bdbdbd'] # greys\n",
    "\n",
    "color_tech = (\n",
    "             col_ccs + \n",
    "             col_landbased +  \n",
    "             col_biochar + \n",
    "             col_ew_landbased + \n",
    "             col_ocean +\n",
    "             col_gen_other\n",
    ")\n",
    "\n",
    "tc = {}\n",
    "for i, tech in enumerate(tech_goodOrder):\n",
    "    tc[tech]=color_tech[i]"
   ]
  },
  {
   "cell_type": "code",
   "execution_count": 19,
   "id": "72a3e5c2-2212-4102-95ed-b994ca25a03b",
   "metadata": {},
   "outputs": [],
   "source": [
    "exp = ['experimental - field /fieldstudy',\n",
    " 'experimental - laboratory']\n",
    "modelling = ['modelling','data analysis / statistical analysis / econometrics','Life Cycle Assessments']\n",
    "qualit = ['review','systematic reviews','survey','qualitative research']\n",
    "unknown = ['Unknown Method']\n",
    "\n",
    "col_exp = ['#1c9099','#a6bddb'] # green-blue\n",
    "col_model = ['#fdbe85','#fd8d3c','#d94701'] # oranges\n",
    "col_qual = ['#feebe2','#fbb4b9','#f768a1','#ae017e'] # pinks\n",
    "col_unk = ['#cccccc']\n",
    "\n",
    "col_meths = col_exp + col_model + col_qual + col_unk\n",
    "meth_goodOrder = exp + modelling + qualit + unknown\n",
    "\n",
    "mc = {}\n",
    "for idx, m in enumerate(meth_goodOrder):\n",
    "    mc[m] = col_meths[idx]"
   ]
  },
  {
   "cell_type": "code",
   "execution_count": 5,
   "id": "7cc87c7f-5c7f-4e0b-b825-6ea5fed5ed2e",
   "metadata": {},
   "outputs": [
    {
     "data": {
      "text/plain": [
       "{'experimental - field /fieldstudy': '#a6bddb',\n",
       " 'experimental - laboratory': '#1c9099',\n",
       " 'modelling': '#fdbe85',\n",
       " 'data analysis / statistical analysis / econometrics': '#fd8d3c',\n",
       " 'Life Cycle Assessments': '#d94701',\n",
       " 'review': '#feebe2',\n",
       " 'systematic reviews': '#fbb4b9',\n",
       " 'survey': '#f768a1',\n",
       " 'qualitative research': '#ae017e',\n",
       " 'Unknown Method': '#cccccc'}"
      ]
     },
     "execution_count": 5,
     "metadata": {},
     "output_type": "execute_result"
    }
   ],
   "source": [
    "mc"
   ]
  },
  {
   "cell_type": "code",
   "execution_count": 7,
   "id": "9b9f1938-3ecf-408f-8a82-23ef6765c4d6",
   "metadata": {},
   "outputs": [],
   "source": [
    "context_all = ['earth system',\n",
    " 'equity & ethics',\n",
    " 'policy/government',\n",
    " 'public perception',\n",
    " 'socio-economic pathways',\n",
    " 'technology']\n",
    "context_cols = ['#a6cee3','#1f78b4','#b2df8a','#33a02c','#fb9a99','#e31a1c']\n",
    "context_cols.reverse()\n",
    "cc = {}\n",
    "for idx, c in enumerate(context_all):\n",
    "    cc[c] = context_cols[idx]"
   ]
  },
  {
   "cell_type": "code",
   "execution_count": 5,
   "id": "7c4fd35c-4981-4276-98e8-b3515d8e76ef",
   "metadata": {},
   "outputs": [
    {
     "data": {
      "text/plain": [
       "{'earth system': '#e31a1c',\n",
       " 'equity & ethics': '#fb9a99',\n",
       " 'policy/government': '#33a02c',\n",
       " 'public perception': '#b2df8a',\n",
       " 'socio-economic pathways': '#1f78b4',\n",
       " 'technology': '#a6cee3'}"
      ]
     },
     "execution_count": 5,
     "metadata": {},
     "output_type": "execute_result"
    }
   ],
   "source": [
    "cc"
   ]
  },
  {
   "cell_type": "code",
   "execution_count": 20,
   "id": "58180281-1919-4326-8e87-d942b64aee43",
   "metadata": {},
   "outputs": [],
   "source": [
    "meth_dict = {\n",
    " 'data analysis / statistical analysis / econometrics' : 'Data Analysis / Statistical Analysis / Econometrics',\n",
    " 'experimental - field /fieldstudy': 'Experimental - Field Study',\n",
    " 'experimental - laboratory': 'Experimental - Laboratory',\n",
    " 'modelling': 'Modelling',\n",
    " 'qualitative research': 'Qualitative Research',\n",
    " 'review': 'Review',\n",
    " 'survey': 'Survey',\n",
    " 'systematic reviews': 'Systematic Review',\n",
    " 'Unknown Method': 'Unknown Method',\n",
    " 'Life Cycle Assessments': 'Life Cycle Assessment'\n",
    "    \n",
    "}\n",
    "context_dict = {\n",
    " 'earth system': 'Earth System',\n",
    " 'equity & ethics':'Equity & Ethics',\n",
    " 'policy/government': 'Policy / Government',\n",
    " 'public perception': 'Public Perception',\n",
    " 'socio-economic pathways': 'Socio-Economic Pathways',\n",
    " 'technology': 'Technology'\n",
    "}\n",
    "tech_labs = ['BECCS',\n",
    " 'DAC(CS)',\n",
    " 'Soil Carbon Sequestration',\n",
    " 'Afforestation/Reforestration',\n",
    " 'Restoration of Landscapes/Peats',\n",
    " 'Agroforestry',\n",
    " 'Forest Management',\n",
    " 'Biochar',\n",
    " 'Enhanced Weathering',\n",
    " 'Ocean Alkalinity Enhancement',\n",
    " 'Blue Carbon',\n",
    " 'Ocean Fertilization & Artificial Upwelling',\n",
    " 'General Literature on CDR']"
   ]
  },
  {
   "cell_type": "markdown",
   "id": "f0885212-efb4-429a-a2db-0e40d19aaeaa",
   "metadata": {},
   "source": [
    "### Load Data"
   ]
  },
  {
   "cell_type": "code",
   "execution_count": 21,
   "id": "42123751-17b0-4a9d-a465-1302487a02a8",
   "metadata": {},
   "outputs": [],
   "source": [
    "def convert_to_list(string):\n",
    "    try:\n",
    "        return literal_eval(string)\n",
    "    except:\n",
    "        return np.nan\n",
    "\n",
    "\n",
    "ipcc = pd.read_csv(\"data/ipcc_paper_with_predictions.csv\", converters={\"all_pred_tech\": literal_eval})\n",
    "ipcc[\"all_pred_context\"] = ipcc.all_pred_context.apply(convert_to_list)\n",
    "ipcc[\"all_pred_meth\"] = ipcc.all_pred_meth.apply(convert_to_list)\n",
    "\n",
    "\n",
    "\n",
    "techs = pd.read_csv(\"data/allIds__allTech_in_pub_from_run_2023-06-18.csv\")\n",
    "ids = techs.drop_duplicates(subset=\"id\")\n",
    "meths = pd.read_csv(\"data/2023-06-18_meth_predicted_unbalanced_hyperparamTuning.csv\", converters={\"all_pred_meth\": literal_eval})\n",
    "meths = ids.merge(meths[[\"id\", \"all_pred_meth\"]], how=\"left\", on=\"id\")\n",
    "meth_ex = meths.explode(\"all_pred_meth\")\n",
    "meth_ex = meth_ex[meth_ex.all_pred_meth!='statistical analysis / econometrics']\n",
    "\n",
    "context = pd.read_csv(\"data/2023-06-18_context_predicted_unbalanced_hyperparamTuning.csv\", converters={\"all_pred_context\": literal_eval})\n",
    "context = ids.merge(context[[\"id\", \"all_pred_context\"]], how=\"left\", on=\"id\")\n",
    "\n",
    "ipcc_numPaper = ipcc.id.nunique()\n",
    "all_numPaper = len(ids)"
   ]
  },
  {
   "cell_type": "code",
   "execution_count": 22,
   "id": "3a838ec0-3acb-46f7-a2e8-07fb011a67ef",
   "metadata": {},
   "outputs": [],
   "source": [
    "ipcc_tech = ipcc.explode(\"all_pred_tech\").groupby('all_pred_tech', as_index=False).size()\n",
    "ipcc_tech[\"col\"] = ipcc_tech[\"all_pred_tech\"].replace(tc)\n",
    "ipcc_tech.index = ipcc_tech[\"all_pred_tech\"]\n",
    "ipcc_tech = ipcc_tech.reindex(tech_goodOrder)\n",
    "tech_ex = techs.groupby('all_pred_tech', as_index=False).size()\n",
    "tech_ex[\"col\"] = tech_ex[\"all_pred_tech\"].replace(tc)\n",
    "tech_ex.index = tech_ex.all_pred_tech\n",
    "tech_ex = tech_ex.reindex(tech_goodOrder)\n",
    "\n",
    "\n",
    "# add meta-analysis studies\n",
    "with open(\"data/ids_metananlysis_in_titeAbstract.txt\") as f:\n",
    "    meta_ids = f.readlines()\n",
    "    meta_ids = [int(i) for i in meta_ids]\n",
    "\n",
    "\n",
    "ipcc_meth = ipcc.explode(\"all_pred_meth\")\n",
    "ipcc_meth.loc[ipcc_meth.all_pred_meth=='statistical analysis / econometrics',\"all_pred_meth\"] = 'data analysis / statistical analysis / econometrics'\n",
    "meth_meta = ipcc_meth.loc[ipcc_meth.id.isin(meta_ids)]\n",
    "meth_meta = meth_meta.drop_duplicates(subset=['id'])\n",
    "meth_meta[\"all_pred_meth\"] = \"systematic reviews\"\n",
    "ipcc_meth = pd.concat([ipcc_meth, meth_meta])\n",
    "\n",
    "ipcc_meth = ipcc_meth.groupby('all_pred_meth', as_index=False).size()\n",
    "ipcc_meth[\"col\"] = ipcc_meth.all_pred_meth.replace(mc)\n",
    "\n",
    "\n",
    "meth_meta = meth_ex.loc[meth_ex.id.isin(meta_ids)]\n",
    "meth_meta = meth_meta.drop_duplicates(subset=['id'])\n",
    "meth_meta[\"all_pred_meth\"] = \"systematic reviews\"\n",
    "meth_ex = pd.concat([meth_ex, meth_meta])\n",
    "\n",
    "meth_ex = meth_ex.groupby('all_pred_meth', as_index=False).size()\n",
    "meth_ex[\"col\"] = meth_ex.all_pred_meth.replace(mc)\n",
    "\n",
    "ipcc_context = ipcc.explode(\"all_pred_context\").groupby(\"all_pred_context\", as_index=False).size()\n",
    "ipcc_context[\"col\"] = ipcc_context.all_pred_context.replace(cc)\n",
    "context_ex = context.explode(\"all_pred_context\").groupby('all_pred_context', as_index=False).size()\n",
    "context_ex[\"col\"] = context_ex.all_pred_context.replace(cc)"
   ]
  },
  {
   "cell_type": "code",
   "execution_count": 41,
   "id": "a00f88de-58f8-4f23-97d8-576c7c5eeb55",
   "metadata": {},
   "outputs": [
    {
     "data": {
      "text/plain": [
       "0    0.005755\n",
       "1    0.001796\n",
       "2    0.036260\n",
       "3    0.007651\n",
       "4    0.087589\n",
       "5    0.860949\n",
       "Name: size, dtype: float64"
      ]
     },
     "execution_count": 41,
     "metadata": {},
     "output_type": "execute_result"
    }
   ],
   "source": [
    "context_ex[\"size\"]/sum(context_ex[\"size\"])"
   ]
  },
  {
   "cell_type": "markdown",
   "id": "7b68320a-f5da-4a04-b1dd-73288dd9e130",
   "metadata": {},
   "source": [
    "### Tech, Meth, Context"
   ]
  },
  {
   "cell_type": "code",
   "execution_count": 23,
   "id": "4d0d5657-d3d6-4fae-b481-938e2150f440",
   "metadata": {},
   "outputs": [],
   "source": [
    "meth_ex.all_pred_meth = meth_ex.all_pred_meth.astype(\"category\")\n",
    "meth_ex.all_pred_meth = meth_ex.all_pred_meth.cat.set_categories(mc.keys())\n",
    "meth_ex = meth_ex.sort_values(\"all_pred_meth\")\n",
    "\n",
    "ipcc_meth.all_pred_meth = ipcc_meth.all_pred_meth.astype(\"category\")\n",
    "ipcc_meth.all_pred_meth = ipcc_meth.all_pred_meth.cat.set_categories(mc.keys())\n",
    "ipcc_meth = ipcc_meth.sort_values(\"all_pred_meth\") "
   ]
  },
  {
   "cell_type": "code",
   "execution_count": 24,
   "id": "1405f5d2-be25-48eb-9a11-50a12e78ac7f",
   "metadata": {},
   "outputs": [
    {
     "data": {
      "image/png": "[encoded data removed]",
      "text/plain": [
       "<Figure size 432x576 with 6 Axes>"
      ]
     },
     "metadata": {},
     "output_type": "display_data"
    }
   ],
   "source": [
    "fig, ax = plt.subplots(figsize=(6,8))\n",
    "\n",
    "#### technologies\n",
    "ax = plt.subplot2grid((3,2),(0, 0))\n",
    "plt.tight_layout(pad=0.0, w_pad=0.1, h_pad=.1)\n",
    "plt.pie(tech_ex[\"size\"], colors=tech_ex[\"col\"], startangle=90)\n",
    "my_circle = plt.Circle( (0,0), 0.6, color='white')\n",
    "p=plt.gcf()\n",
    "p.gca().add_artist(my_circle)\n",
    "\n",
    "ax = plt.subplot2grid((3,2),(0, 1))\n",
    "plt.pie(ipcc_tech[\"size\"], colors=ipcc_tech[\"col\"], startangle=90)\n",
    "my_circle = plt.Circle( (0,0), 0.6, color='white')\n",
    "p=plt.gcf()\n",
    "p.gca().add_artist(my_circle)\n",
    "\n",
    "legend_labels = []\n",
    "for tech in tech_goodOrder:\n",
    "    if tech==\"AR\":\n",
    "        lab=\"Afforestation/Reforestration\"\n",
    "    elif \"restoration\" in tech:\n",
    "        lab=\"Restoration of Landscapes/Peats\"\n",
    "    elif tech==\"Blue Carbon\":\n",
    "        lab=\"Blue Carbon Management\"\n",
    "    elif tech==\"General Literature on CDR/NET\":\n",
    "        lab=\"General Literature on CDR\"\n",
    "    elif \"Enhanced \" in tech:\n",
    "        lab=\"Enhanced Weathering\"\n",
    "    elif \"welling\" in tech:\n",
    "        lab=\"Ocean Fertilization & Artificial Upwelling\"\n",
    "    elif 'alkalinity' in tech:\n",
    "        lab=\"Ocean Alkalinity Enhancement\"\n",
    "    else:\n",
    "        lab=tech\n",
    "    legend_labels.append(mpatches.Patch(color=tc[tech], label=lab))\n",
    "ax.legend(handles=legend_labels, bbox_to_anchor=(1., 1.2))\n",
    "\n",
    "##### methodologies\n",
    "ax = plt.subplot2grid((3,2),(1, 0))\n",
    "\n",
    "ax.pie(meth_ex[\"size\"], colors=meth_ex[\"col\"], startangle=90)\n",
    "my_circle = plt.Circle( (0,0), 0.6, color='white')\n",
    "p=plt.gcf()\n",
    "p.gca().add_artist(my_circle)\n",
    "\n",
    "ax = plt.subplot2grid((3,2),(1, 1))\n",
    "ax.pie(ipcc_meth[\"size\"], colors=ipcc_meth[\"col\"], startangle=90)\n",
    "my_circle = plt.Circle( (0,0), 0.6, color='white')\n",
    "p=plt.gcf()\n",
    "p.gca().add_artist(my_circle)\n",
    "\n",
    "legend_labels = []\n",
    "for m in meth_goodOrder:\n",
    "    legend_labels.append(mpatches.Patch(color=mc[m], label=meth_dict[m]))\n",
    "ax.legend(handles=legend_labels, bbox_to_anchor=(1., 1))\n",
    "\n",
    "\n",
    "# context\n",
    "ax = plt.subplot2grid((3,2),(2, 0))\n",
    "ax.pie(context_ex[\"size\"], colors=context_ex[\"col\"], startangle=90)\n",
    "my_circle = plt.Circle( (0,0), 0.6, color='white')\n",
    "p=plt.gcf()\n",
    "p.gca().add_artist(my_circle)\n",
    "\n",
    "ax = plt.subplot2grid((3,2),(2, 1))\n",
    "ax.pie(ipcc_context[\"size\"], colors=ipcc_context[\"col\"], startangle=90)\n",
    "my_circle = plt.Circle( (0,0), 0.6, color='white')\n",
    "p=plt.gcf()\n",
    "p.gca().add_artist(my_circle)\n",
    "\n",
    "legend_labels = []\n",
    "for c in context_all:\n",
    "    legend_labels.append(mpatches.Patch(color=cc[c], label=context_dict[c]))\n",
    "ax.legend(handles=legend_labels, bbox_to_anchor=(1., 0.8))\n",
    "\n",
    "## Text\n",
    "plt.text(-3.4,7, \"All papers\",fontsize=15)\n",
    "plt.text(-3.2,6.7, all_numPaper,fontsize=15)\n",
    "\n",
    "plt.text(-0.6,7, \"IPCC papers\",fontsize=15)\n",
    "plt.text(-0.2,6.7, ipcc_numPaper,fontsize=15)\n",
    "\n",
    "\n",
    "plt.text(-2.1,4.3, \"Technology\",fontsize=15)\n",
    "plt.text(-2.1,1.6, \"Methodology\",fontsize=15)\n",
    "plt.text(-1.9,-1, \"Context\",fontsize=15)\n",
    "\n",
    "\n",
    "plt.savefig(\"figures/all_vs_ipcc_tech_meth_context.png\", bbox_inches=\"tight\", facecolor='white', edgecolor='none')\n"
   ]
  },
  {
   "cell_type": "code",
   "execution_count": 55,
   "id": "88bf5700-549f-476b-8985-95c56fca41ba",
   "metadata": {},
   "outputs": [],
   "source": [
    "ipcc_meth[\"rel\"]=ipcc_meth[\"size\"]/ipcc_meth[\"size\"].sum()"
   ]
  },
  {
   "cell_type": "code",
   "execution_count": 56,
   "id": "9728c683-4e19-4ce4-80f7-65fa75abdd33",
   "metadata": {},
   "outputs": [
    {
     "data": {
      "text/html": [
       "<div>\n",
       "<style scoped>\n",
       "    .dataframe tbody tr th:only-of-type {\n",
       "        vertical-align: middle;\n",
       "    }\n",
       "\n",
       "    .dataframe tbody tr th {\n",
       "        vertical-align: top;\n",
       "    }\n",
       "\n",
       "    .dataframe thead th {\n",
       "        text-align: right;\n",
       "    }\n",
       "</style>\n",
       "<table border=\"1\" class=\"dataframe\">\n",
       "  <thead>\n",
       "    <tr style=\"text-align: right;\">\n",
       "      <th></th>\n",
       "      <th>all_pred_meth</th>\n",
       "      <th>size</th>\n",
       "      <th>col</th>\n",
       "      <th>rel</th>\n",
       "    </tr>\n",
       "  </thead>\n",
       "  <tbody>\n",
       "    <tr>\n",
       "      <th>0</th>\n",
       "      <td>Life Cycle Assessments</td>\n",
       "      <td>15</td>\n",
       "      <td>#d94701</td>\n",
       "      <td>0.029183</td>\n",
       "    </tr>\n",
       "    <tr>\n",
       "      <th>1</th>\n",
       "      <td>Unknown Method</td>\n",
       "      <td>20</td>\n",
       "      <td>#cccccc</td>\n",
       "      <td>0.038911</td>\n",
       "    </tr>\n",
       "    <tr>\n",
       "      <th>2</th>\n",
       "      <td>data analysis / statistical analysis / econome...</td>\n",
       "      <td>89</td>\n",
       "      <td>#fd8d3c</td>\n",
       "      <td>0.173152</td>\n",
       "    </tr>\n",
       "    <tr>\n",
       "      <th>3</th>\n",
       "      <td>experimental - field /fieldstudy</td>\n",
       "      <td>27</td>\n",
       "      <td>#a6bddb</td>\n",
       "      <td>0.052529</td>\n",
       "    </tr>\n",
       "    <tr>\n",
       "      <th>4</th>\n",
       "      <td>experimental - laboratory</td>\n",
       "      <td>21</td>\n",
       "      <td>#1c9099</td>\n",
       "      <td>0.040856</td>\n",
       "    </tr>\n",
       "    <tr>\n",
       "      <th>5</th>\n",
       "      <td>modelling</td>\n",
       "      <td>173</td>\n",
       "      <td>#fdbe85</td>\n",
       "      <td>0.336576</td>\n",
       "    </tr>\n",
       "    <tr>\n",
       "      <th>6</th>\n",
       "      <td>qualitative research</td>\n",
       "      <td>40</td>\n",
       "      <td>#ae017e</td>\n",
       "      <td>0.077821</td>\n",
       "    </tr>\n",
       "    <tr>\n",
       "      <th>7</th>\n",
       "      <td>review</td>\n",
       "      <td>100</td>\n",
       "      <td>#feebe2</td>\n",
       "      <td>0.194553</td>\n",
       "    </tr>\n",
       "    <tr>\n",
       "      <th>8</th>\n",
       "      <td>survey</td>\n",
       "      <td>12</td>\n",
       "      <td>#f768a1</td>\n",
       "      <td>0.023346</td>\n",
       "    </tr>\n",
       "    <tr>\n",
       "      <th>9</th>\n",
       "      <td>systematic reviews</td>\n",
       "      <td>17</td>\n",
       "      <td>#fbb4b9</td>\n",
       "      <td>0.033074</td>\n",
       "    </tr>\n",
       "  </tbody>\n",
       "</table>\n",
       "</div>"
      ],
      "text/plain": [
       "                                       all_pred_meth  size      col       rel\n",
       "0                             Life Cycle Assessments    15  #d94701  0.029183\n",
       "1                                     Unknown Method    20  #cccccc  0.038911\n",
       "2  data analysis / statistical analysis / econome...    89  #fd8d3c  0.173152\n",
       "3                   experimental - field /fieldstudy    27  #a6bddb  0.052529\n",
       "4                          experimental - laboratory    21  #1c9099  0.040856\n",
       "5                                          modelling   173  #fdbe85  0.336576\n",
       "6                               qualitative research    40  #ae017e  0.077821\n",
       "7                                             review   100  #feebe2  0.194553\n",
       "8                                             survey    12  #f768a1  0.023346\n",
       "9                                 systematic reviews    17  #fbb4b9  0.033074"
      ]
     },
     "execution_count": 56,
     "metadata": {},
     "output_type": "execute_result"
    }
   ],
   "source": [
    "ipcc_meth"
   ]
  },
  {
   "cell_type": "code",
   "execution_count": 58,
   "id": "f9a84105-ce1e-4c74-a3ae-5cac60b1cc8c",
   "metadata": {},
   "outputs": [
    {
     "data": {
      "text/html": [
       "<div>\n",
       "<style scoped>\n",
       "    .dataframe tbody tr th:only-of-type {\n",
       "        vertical-align: middle;\n",
       "    }\n",
       "\n",
       "    .dataframe tbody tr th {\n",
       "        vertical-align: top;\n",
       "    }\n",
       "\n",
       "    .dataframe thead th {\n",
       "        text-align: right;\n",
       "    }\n",
       "</style>\n",
       "<table border=\"1\" class=\"dataframe\">\n",
       "  <thead>\n",
       "    <tr style=\"text-align: right;\">\n",
       "      <th></th>\n",
       "      <th>all_pred_meth</th>\n",
       "      <th>size</th>\n",
       "      <th>col</th>\n",
       "      <th>rel</th>\n",
       "    </tr>\n",
       "  </thead>\n",
       "  <tbody>\n",
       "    <tr>\n",
       "      <th>0</th>\n",
       "      <td>Life Cycle Assessments</td>\n",
       "      <td>412</td>\n",
       "      <td>#d94701</td>\n",
       "      <td>0.012426</td>\n",
       "    </tr>\n",
       "    <tr>\n",
       "      <th>1</th>\n",
       "      <td>Unknown Method</td>\n",
       "      <td>468</td>\n",
       "      <td>#cccccc</td>\n",
       "      <td>0.014115</td>\n",
       "    </tr>\n",
       "    <tr>\n",
       "      <th>2</th>\n",
       "      <td>data analysis / statistical analysis / econome...</td>\n",
       "      <td>2831</td>\n",
       "      <td>#fd8d3c</td>\n",
       "      <td>0.085382</td>\n",
       "    </tr>\n",
       "    <tr>\n",
       "      <th>3</th>\n",
       "      <td>experimental - field /fieldstudy</td>\n",
       "      <td>7282</td>\n",
       "      <td>#a6bddb</td>\n",
       "      <td>0.219622</td>\n",
       "    </tr>\n",
       "    <tr>\n",
       "      <th>4</th>\n",
       "      <td>experimental - laboratory</td>\n",
       "      <td>12380</td>\n",
       "      <td>#1c9099</td>\n",
       "      <td>0.373375</td>\n",
       "    </tr>\n",
       "    <tr>\n",
       "      <th>5</th>\n",
       "      <td>modelling</td>\n",
       "      <td>3887</td>\n",
       "      <td>#fdbe85</td>\n",
       "      <td>0.117230</td>\n",
       "    </tr>\n",
       "    <tr>\n",
       "      <th>6</th>\n",
       "      <td>qualitative research</td>\n",
       "      <td>509</td>\n",
       "      <td>#ae017e</td>\n",
       "      <td>0.015351</td>\n",
       "    </tr>\n",
       "    <tr>\n",
       "      <th>7</th>\n",
       "      <td>review</td>\n",
       "      <td>4817</td>\n",
       "      <td>#feebe2</td>\n",
       "      <td>0.145279</td>\n",
       "    </tr>\n",
       "    <tr>\n",
       "      <th>8</th>\n",
       "      <td>survey</td>\n",
       "      <td>142</td>\n",
       "      <td>#f768a1</td>\n",
       "      <td>0.004283</td>\n",
       "    </tr>\n",
       "    <tr>\n",
       "      <th>9</th>\n",
       "      <td>systematic reviews</td>\n",
       "      <td>429</td>\n",
       "      <td>#fbb4b9</td>\n",
       "      <td>0.012938</td>\n",
       "    </tr>\n",
       "  </tbody>\n",
       "</table>\n",
       "</div>"
      ],
      "text/plain": [
       "                                       all_pred_meth   size      col       rel\n",
       "0                             Life Cycle Assessments    412  #d94701  0.012426\n",
       "1                                     Unknown Method    468  #cccccc  0.014115\n",
       "2  data analysis / statistical analysis / econome...   2831  #fd8d3c  0.085382\n",
       "3                   experimental - field /fieldstudy   7282  #a6bddb  0.219622\n",
       "4                          experimental - laboratory  12380  #1c9099  0.373375\n",
       "5                                          modelling   3887  #fdbe85  0.117230\n",
       "6                               qualitative research    509  #ae017e  0.015351\n",
       "7                                             review   4817  #feebe2  0.145279\n",
       "8                                             survey    142  #f768a1  0.004283\n",
       "9                                 systematic reviews    429  #fbb4b9  0.012938"
      ]
     },
     "execution_count": 58,
     "metadata": {},
     "output_type": "execute_result"
    }
   ],
   "source": [
    "meth_ex[\"rel\"]=meth_ex[\"size\"]/meth_ex[\"size\"].sum()\n",
    "meth_ex"
   ]
  },
  {
   "cell_type": "markdown",
   "id": "0922c8cc-d2a5-4ae0-873a-b3a71c3cd7db",
   "metadata": {},
   "source": [
    "### Tech, Context"
   ]
  },
  {
   "cell_type": "code",
   "execution_count": 10,
   "id": "5be8acb0-d1da-4d27-b664-4a33777400a8",
   "metadata": {},
   "outputs": [
    {
     "data": {
      "image/png": "[encoded data removed]",
      "text/plain": [
       "<Figure size 432x432 with 4 Axes>"
      ]
     },
     "metadata": {},
     "output_type": "display_data"
    }
   ],
   "source": [
    "fig, ax = plt.subplots(figsize=(6,6))\n",
    "\n",
    "#### technologies\n",
    "ax = plt.subplot2grid((2,2),(0, 0))\n",
    "plt.tight_layout(pad=0.0, w_pad=0.1, h_pad=.1)\n",
    "plt.pie(tech_ex[\"size\"], colors=tech_ex[\"col\"])\n",
    "my_circle = plt.Circle( (0,0), 0.6, color='white')\n",
    "p=plt.gcf()\n",
    "p.gca().add_artist(my_circle)\n",
    "\n",
    "ax = plt.subplot2grid((2,2),(0, 1))\n",
    "plt.pie(ipcc_tech[\"size\"], colors=ipcc_tech[\"col\"])\n",
    "my_circle = plt.Circle( (0,0), 0.6, color='white')\n",
    "p=plt.gcf()\n",
    "p.gca().add_artist(my_circle)\n",
    "\n",
    "legend_labels = []\n",
    "for tech in tech_goodOrder:\n",
    "    if tech==\"AR\":\n",
    "        lab=\"Afforestration/Reforestration\"\n",
    "    elif tech==\"Blue Carbon\":\n",
    "        lab=\"Blue Carbon Management\"\n",
    "    elif tech==\"General Literature on CDR/NET\":\n",
    "        lab=\"General Literature on CDR\"\n",
    "    elif \"Enhanced \" in tech:\n",
    "        lab=\"Enhanced Wheathering\"\n",
    "    else:\n",
    "        lab=tech\n",
    "    legend_labels.append(mpatches.Patch(color=tc[tech], label=lab))\n",
    "ax.legend(handles=legend_labels, bbox_to_anchor=(1., 1.))\n",
    "\n",
    "# context\n",
    "ax = plt.subplot2grid((2,2),(1, 0))\n",
    "ax.pie(context_ex[\"size\"], colors=context_ex[\"col\"])\n",
    "my_circle = plt.Circle( (0,0), 0.6, color='white')\n",
    "p=plt.gcf()\n",
    "p.gca().add_artist(my_circle)\n",
    "\n",
    "ax = plt.subplot2grid((2,2),(1, 1))\n",
    "ax.pie(ipcc_context[\"size\"], colors=ipcc_context[\"col\"])\n",
    "my_circle = plt.Circle( (0,0), 0.6, color='white')\n",
    "p=plt.gcf()\n",
    "p.gca().add_artist(my_circle)\n",
    "\n",
    "legend_labels = []\n",
    "for c in context_all:\n",
    "    legend_labels.append(mpatches.Patch(color=cc[c], label=c))\n",
    "ax.legend(handles=legend_labels, bbox_to_anchor=(1., 0.7))\n",
    "\n",
    "## Text\n",
    "plt.text(-3.1,4, \"All papers\",fontsize=15)\n",
    "plt.text(-0.6,4, \"IPCC papers\",fontsize=15)\n",
    "\n",
    "plt.text(-1.9,1.6, \"Technology\",fontsize=15)\n",
    "plt.text(-1.7,-1, \"Context\",fontsize=15)\n",
    "\n",
    "plt.savefig(\"figures/all_vs_ipcc_tech_context.png\", bbox_inches=\"tight\", facecolor='white', edgecolor='none')"
   ]
  },
  {
   "cell_type": "markdown",
   "id": "0de48d7e-0b59-4100-9f72-259d8f52c3cf",
   "metadata": {},
   "source": [
    "### To Excel"
   ]
  },
  {
   "cell_type": "code",
   "execution_count": 32,
   "id": "341c38c9-0394-4802-a7ca-7a2ad854af2e",
   "metadata": {},
   "outputs": [],
   "source": [
    "ipcc_tech[[ \"size\"]].rename(columns={\"size\":\"ipcc paper\"}).merge(\n",
    "    tech_ex[[ \"size\"]].rename(columns={\"size\":\"all paper\"}),\n",
    "    how=\"left\", left_index=True, right_index=True\n",
    ").to_excel('figures/fig_data/fig_ipcc__technology.xlsx')"
   ]
  },
  {
   "cell_type": "code",
   "execution_count": 33,
   "id": "4cf42555-d2dd-4876-99f4-83d8954ce3c1",
   "metadata": {},
   "outputs": [],
   "source": [
    "ipcc_meth[[\"all_pred_meth\", \"size\"]].rename(columns={\"size\":\"ipcc paper\"}).merge(\n",
    "    meth_ex[[\"all_pred_meth\", \"size\"]].rename(columns={\"size\":\"all paper\"}),\n",
    "    how=\"left\", \n",
    "    on=\"all_pred_meth\"\n",
    ").to_excel('figures/fig_data/fig_ipcc__methodology.xlsx', index=False)"
   ]
  },
  {
   "cell_type": "code",
   "execution_count": 34,
   "id": "bb9a3c04-503b-46ad-ad69-3cf57c099a79",
   "metadata": {},
   "outputs": [],
   "source": [
    "ipcc_context[[\"all_pred_context\", \"size\"]].rename(columns={\"size\":\"ipcc paper\"}).merge(\n",
    "    context_ex[[\"all_pred_context\", \"size\"]].rename(columns={\"size\":\"all paper\"}),\n",
    "    how=\"left\", \n",
    "    on=\"all_pred_context\"\n",
    ").to_excel('figures/fig_data/fig_ipcc__context.xlsx', index=False)"
   ]
  },
  {
   "cell_type": "markdown",
   "id": "95b66c69-e8b5-4779-950e-92bd353c5211",
   "metadata": {},
   "source": [
    "### Analysis for paper"
   ]
  },
  {
   "cell_type": "code",
   "execution_count": 11,
   "id": "9ddd874b-a33b-4146-99f1-da6e754371ef",
   "metadata": {},
   "outputs": [
    {
     "data": {
      "text/plain": [
       "all_pred_tech\n",
       "BECCS                                         0.055805\n",
       "DAC(CS)                                       0.028368\n",
       "Soil Carbon Sequestration                     0.240855\n",
       "AR                                            0.119685\n",
       "restoration of landscapes/peats               0.035788\n",
       "Agroforestry                                  0.097218\n",
       "Forest Management                             0.047142\n",
       "Biochar                                       0.560188\n",
       "Enhanced Weathering (land based)              0.014012\n",
       "Ocean alkalinity enhancement                  0.005246\n",
       "Blue Carbon                                   0.047557\n",
       "Ocean fertilization & Artificial upwelling    0.014150\n",
       "General Literature on CDR/NET                 0.037686\n",
       "Name: size, dtype: float64"
      ]
     },
     "execution_count": 11,
     "metadata": {},
     "output_type": "execute_result"
    }
   ],
   "source": [
    "tech_ex[\"size\"]/all_numPaper"
   ]
  },
  {
   "cell_type": "code",
   "execution_count": 13,
   "id": "06a6d906-7273-4475-aa22-7e912d71b146",
   "metadata": {},
   "outputs": [
    {
     "data": {
      "text/plain": [
       "all_pred_tech\n",
       "BECCS                                         0.266385\n",
       "DAC(CS)                                       0.076110\n",
       "Soil Carbon Sequestration                     0.135307\n",
       "AR                                            0.122622\n",
       "restoration of landscapes/peats               0.029598\n",
       "Agroforestry                                  0.109937\n",
       "Forest Management                             0.035941\n",
       "Biochar                                       0.133192\n",
       "Enhanced Weathering (land based)              0.044397\n",
       "Ocean alkalinity enhancement                  0.069767\n",
       "Blue Carbon                                   0.057082\n",
       "Ocean fertilization & Artificial upwelling    0.035941\n",
       "General Literature on CDR/NET                 0.260042\n",
       "Name: size, dtype: float64"
      ]
     },
     "execution_count": 13,
     "metadata": {},
     "output_type": "execute_result"
    }
   ],
   "source": [
    "ipcc_tech[\"size\"]/ipcc_numPaper"
   ]
  },
  {
   "cell_type": "code",
   "execution_count": 17,
   "id": "ee674150-3875-4565-a8d0-bad001ab4b5b",
   "metadata": {},
   "outputs": [
    {
     "data": {
      "text/plain": [
       "0.016323854224185533"
      ]
     },
     "execution_count": 17,
     "metadata": {},
     "output_type": "execute_result"
    }
   ],
   "source": [
    "ipcc_numPaper/all_numPaper"
   ]
  },
  {
   "cell_type": "code",
   "execution_count": 36,
   "id": "f4c1e7c7-2e24-435c-9453-e40ee172126f",
   "metadata": {},
   "outputs": [
    {
     "data": {
      "text/html": [
       "<div>\n",
       "<style scoped>\n",
       "    .dataframe tbody tr th:only-of-type {\n",
       "        vertical-align: middle;\n",
       "    }\n",
       "\n",
       "    .dataframe tbody tr th {\n",
       "        vertical-align: top;\n",
       "    }\n",
       "\n",
       "    .dataframe thead th {\n",
       "        text-align: right;\n",
       "    }\n",
       "</style>\n",
       "<table border=\"1\" class=\"dataframe\">\n",
       "  <thead>\n",
       "    <tr style=\"text-align: right;\">\n",
       "      <th></th>\n",
       "      <th>all_pred_meth</th>\n",
       "      <th>size</th>\n",
       "      <th>col</th>\n",
       "    </tr>\n",
       "  </thead>\n",
       "  <tbody>\n",
       "    <tr>\n",
       "      <th>0</th>\n",
       "      <td>Life Cycle Assessments</td>\n",
       "      <td>15</td>\n",
       "      <td>#d94701</td>\n",
       "    </tr>\n",
       "    <tr>\n",
       "      <th>1</th>\n",
       "      <td>Unknown Method</td>\n",
       "      <td>20</td>\n",
       "      <td>#cccccc</td>\n",
       "    </tr>\n",
       "    <tr>\n",
       "      <th>2</th>\n",
       "      <td>data analysis / statistical analysis / econome...</td>\n",
       "      <td>89</td>\n",
       "      <td>#fd8d3c</td>\n",
       "    </tr>\n",
       "    <tr>\n",
       "      <th>3</th>\n",
       "      <td>experimental - field /fieldstudy</td>\n",
       "      <td>27</td>\n",
       "      <td>#a6bddb</td>\n",
       "    </tr>\n",
       "    <tr>\n",
       "      <th>4</th>\n",
       "      <td>experimental - laboratory</td>\n",
       "      <td>21</td>\n",
       "      <td>#1c9099</td>\n",
       "    </tr>\n",
       "    <tr>\n",
       "      <th>5</th>\n",
       "      <td>modelling</td>\n",
       "      <td>173</td>\n",
       "      <td>#fdbe85</td>\n",
       "    </tr>\n",
       "    <tr>\n",
       "      <th>6</th>\n",
       "      <td>qualitative research</td>\n",
       "      <td>40</td>\n",
       "      <td>#ae017e</td>\n",
       "    </tr>\n",
       "    <tr>\n",
       "      <th>7</th>\n",
       "      <td>review</td>\n",
       "      <td>100</td>\n",
       "      <td>#feebe2</td>\n",
       "    </tr>\n",
       "    <tr>\n",
       "      <th>8</th>\n",
       "      <td>survey</td>\n",
       "      <td>12</td>\n",
       "      <td>#f768a1</td>\n",
       "    </tr>\n",
       "    <tr>\n",
       "      <th>9</th>\n",
       "      <td>systematic reviews</td>\n",
       "      <td>17</td>\n",
       "      <td>#fbb4b9</td>\n",
       "    </tr>\n",
       "  </tbody>\n",
       "</table>\n",
       "</div>"
      ],
      "text/plain": [
       "                                       all_pred_meth  size      col\n",
       "0                             Life Cycle Assessments    15  #d94701\n",
       "1                                     Unknown Method    20  #cccccc\n",
       "2  data analysis / statistical analysis / econome...    89  #fd8d3c\n",
       "3                   experimental - field /fieldstudy    27  #a6bddb\n",
       "4                          experimental - laboratory    21  #1c9099\n",
       "5                                          modelling   173  #fdbe85\n",
       "6                               qualitative research    40  #ae017e\n",
       "7                                             review   100  #feebe2\n",
       "8                                             survey    12  #f768a1\n",
       "9                                 systematic reviews    17  #fbb4b9"
      ]
     },
     "execution_count": 36,
     "metadata": {},
     "output_type": "execute_result"
    }
   ],
   "source": [
    "ipcc_meth#/ipcc_numPaper"
   ]
  },
  {
   "cell_type": "code",
   "execution_count": 37,
   "id": "2c839312-1569-4820-a2ce-7fb836ad225b",
   "metadata": {},
   "outputs": [],
   "source": [
    "ipcc_exp = ipcc[['id', 'all_pred_tech',\n",
    "       'first_pred_tech', 'all_pred_meth', 'first_pred_meth',\n",
    "       'all_pred_context', 'first_pred_context']]\n",
    "ipcc_exp = ipcc_exp.dropna(subset=[\"all_pred_meth\"])\n",
    "ipcc_exp = ipcc_exp.explode(\"all_pred_meth\")\n",
    "ipcc_exp.loc[ipcc_exp[\"all_pred_meth\"].str.contains(\"experimental\"),\"all_pred_meth\"] = \"experimental\"\n",
    "ipcc_exp.loc[ipcc_exp[\"all_pred_meth\"].str.contains(\"statistical\"),\"all_pred_meth\"] = \"data analysis / statistical analysis / econometrics\""
   ]
  },
  {
   "cell_type": "code",
   "execution_count": 38,
   "id": "478ed7c0-815a-4516-9bab-2c2b8cf3fd7b",
   "metadata": {},
   "outputs": [
    {
     "data": {
      "text/plain": [
       "modelling                                              0.365751\n",
       "review                                                 0.211416\n",
       "data analysis / statistical analysis / econometrics    0.188161\n",
       "experimental                                           0.101480\n",
       "qualitative research                                   0.084567\n",
       "Unknown Method                                         0.042283\n",
       "systematic reviews                                     0.031712\n",
       "Life Cycle Assessments                                 0.031712\n",
       "survey                                                 0.025370\n",
       "Name: all_pred_meth, dtype: float64"
      ]
     },
     "execution_count": 38,
     "metadata": {},
     "output_type": "execute_result"
    }
   ],
   "source": [
    "ipcc_exp[\"all_pred_meth\"].value_counts()/ipcc_numPaper"
   ]
  },
  {
   "cell_type": "code",
   "execution_count": 39,
   "id": "8aa6af2d-a965-4702-a94e-241598a26d31",
   "metadata": {},
   "outputs": [
    {
     "data": {
      "text/html": [
       "<div>\n",
       "<style scoped>\n",
       "    .dataframe tbody tr th:only-of-type {\n",
       "        vertical-align: middle;\n",
       "    }\n",
       "\n",
       "    .dataframe tbody tr th {\n",
       "        vertical-align: top;\n",
       "    }\n",
       "\n",
       "    .dataframe thead th {\n",
       "        text-align: right;\n",
       "    }\n",
       "</style>\n",
       "<table border=\"1\" class=\"dataframe\">\n",
       "  <thead>\n",
       "    <tr style=\"text-align: right;\">\n",
       "      <th></th>\n",
       "      <th>all_pred_meth</th>\n",
       "      <th>size</th>\n",
       "      <th>col</th>\n",
       "    </tr>\n",
       "  </thead>\n",
       "  <tbody>\n",
       "    <tr>\n",
       "      <th>0</th>\n",
       "      <td>Life Cycle Assessments</td>\n",
       "      <td>412</td>\n",
       "      <td>#d94701</td>\n",
       "    </tr>\n",
       "    <tr>\n",
       "      <th>1</th>\n",
       "      <td>Unknown Method</td>\n",
       "      <td>468</td>\n",
       "      <td>#cccccc</td>\n",
       "    </tr>\n",
       "    <tr>\n",
       "      <th>2</th>\n",
       "      <td>data analysis / statistical analysis / econome...</td>\n",
       "      <td>2831</td>\n",
       "      <td>#fd8d3c</td>\n",
       "    </tr>\n",
       "    <tr>\n",
       "      <th>3</th>\n",
       "      <td>experimental - field /fieldstudy</td>\n",
       "      <td>7282</td>\n",
       "      <td>#a6bddb</td>\n",
       "    </tr>\n",
       "    <tr>\n",
       "      <th>4</th>\n",
       "      <td>experimental - laboratory</td>\n",
       "      <td>12380</td>\n",
       "      <td>#1c9099</td>\n",
       "    </tr>\n",
       "    <tr>\n",
       "      <th>5</th>\n",
       "      <td>modelling</td>\n",
       "      <td>3887</td>\n",
       "      <td>#fdbe85</td>\n",
       "    </tr>\n",
       "    <tr>\n",
       "      <th>6</th>\n",
       "      <td>qualitative research</td>\n",
       "      <td>509</td>\n",
       "      <td>#ae017e</td>\n",
       "    </tr>\n",
       "    <tr>\n",
       "      <th>7</th>\n",
       "      <td>review</td>\n",
       "      <td>4817</td>\n",
       "      <td>#feebe2</td>\n",
       "    </tr>\n",
       "    <tr>\n",
       "      <th>8</th>\n",
       "      <td>survey</td>\n",
       "      <td>142</td>\n",
       "      <td>#f768a1</td>\n",
       "    </tr>\n",
       "    <tr>\n",
       "      <th>9</th>\n",
       "      <td>systematic reviews</td>\n",
       "      <td>429</td>\n",
       "      <td>#fbb4b9</td>\n",
       "    </tr>\n",
       "  </tbody>\n",
       "</table>\n",
       "</div>"
      ],
      "text/plain": [
       "                                       all_pred_meth   size      col\n",
       "0                             Life Cycle Assessments    412  #d94701\n",
       "1                                     Unknown Method    468  #cccccc\n",
       "2  data analysis / statistical analysis / econome...   2831  #fd8d3c\n",
       "3                   experimental - field /fieldstudy   7282  #a6bddb\n",
       "4                          experimental - laboratory  12380  #1c9099\n",
       "5                                          modelling   3887  #fdbe85\n",
       "6                               qualitative research    509  #ae017e\n",
       "7                                             review   4817  #feebe2\n",
       "8                                             survey    142  #f768a1\n",
       "9                                 systematic reviews    429  #fbb4b9"
      ]
     },
     "execution_count": 39,
     "metadata": {},
     "output_type": "execute_result"
    }
   ],
   "source": [
    "meth_ex"
   ]
  },
  {
   "cell_type": "code",
   "execution_count": 50,
   "id": "bd0f00d7-6b00-4726-be86-e6b39a40d460",
   "metadata": {},
   "outputs": [],
   "source": [
    "meths_ex = meths.explode(\"all_pred_meth\")"
   ]
  },
  {
   "cell_type": "code",
   "execution_count": 11,
   "id": "d84d1d37-d4a3-4cd0-81ec-056e19b77dad",
   "metadata": {},
   "outputs": [
    {
     "data": {
      "text/plain": [
       "0    0.014219\n",
       "1    0.016151\n",
       "2    0.097702\n",
       "3    0.251311\n",
       "4    0.427250\n",
       "5    0.134145\n",
       "6    0.017566\n",
       "7    0.166241\n",
       "8    0.004901\n",
       "9    0.014805\n",
       "Name: size, dtype: float64"
      ]
     },
     "execution_count": 11,
     "metadata": {},
     "output_type": "execute_result"
    }
   ],
   "source": [
    "meth_ex[\"size\"]/all_numPaper"
   ]
  },
  {
   "cell_type": "code",
   "execution_count": 63,
   "id": "cc8d6708-aa85-43df-b221-efbeb0e2f4e4",
   "metadata": {},
   "outputs": [
    {
     "data": {
      "text/html": [
       "<div>\n",
       "<style scoped>\n",
       "    .dataframe tbody tr th:only-of-type {\n",
       "        vertical-align: middle;\n",
       "    }\n",
       "\n",
       "    .dataframe tbody tr th {\n",
       "        vertical-align: top;\n",
       "    }\n",
       "\n",
       "    .dataframe thead th {\n",
       "        text-align: right;\n",
       "    }\n",
       "</style>\n",
       "<table border=\"1\" class=\"dataframe\">\n",
       "  <thead>\n",
       "    <tr style=\"text-align: right;\">\n",
       "      <th></th>\n",
       "      <th>all_pred_context</th>\n",
       "      <th>size</th>\n",
       "      <th>col</th>\n",
       "    </tr>\n",
       "  </thead>\n",
       "  <tbody>\n",
       "    <tr>\n",
       "      <th>0</th>\n",
       "      <td>earth system</td>\n",
       "      <td>21</td>\n",
       "      <td>#e31a1c</td>\n",
       "    </tr>\n",
       "    <tr>\n",
       "      <th>1</th>\n",
       "      <td>equity &amp; ethics</td>\n",
       "      <td>10</td>\n",
       "      <td>#fb9a99</td>\n",
       "    </tr>\n",
       "    <tr>\n",
       "      <th>2</th>\n",
       "      <td>policy/government</td>\n",
       "      <td>103</td>\n",
       "      <td>#33a02c</td>\n",
       "    </tr>\n",
       "    <tr>\n",
       "      <th>3</th>\n",
       "      <td>public perception</td>\n",
       "      <td>31</td>\n",
       "      <td>#b2df8a</td>\n",
       "    </tr>\n",
       "    <tr>\n",
       "      <th>4</th>\n",
       "      <td>socio-economic pathways</td>\n",
       "      <td>158</td>\n",
       "      <td>#1f78b4</td>\n",
       "    </tr>\n",
       "    <tr>\n",
       "      <th>5</th>\n",
       "      <td>technology</td>\n",
       "      <td>211</td>\n",
       "      <td>#a6cee3</td>\n",
       "    </tr>\n",
       "  </tbody>\n",
       "</table>\n",
       "</div>"
      ],
      "text/plain": [
       "          all_pred_context  size      col\n",
       "0             earth system    21  #e31a1c\n",
       "1          equity & ethics    10  #fb9a99\n",
       "2        policy/government   103  #33a02c\n",
       "3        public perception    31  #b2df8a\n",
       "4  socio-economic pathways   158  #1f78b4\n",
       "5               technology   211  #a6cee3"
      ]
     },
     "execution_count": 63,
     "metadata": {},
     "output_type": "execute_result"
    }
   ],
   "source": [
    "ipcc_context"
   ]
  },
  {
   "cell_type": "code",
   "execution_count": 64,
   "id": "d7e89ad5-bb12-46f8-9c70-952a1845683d",
   "metadata": {},
   "outputs": [
    {
     "data": {
      "text/plain": [
       "0    0.044397\n",
       "1    0.021142\n",
       "2    0.217759\n",
       "3    0.065539\n",
       "4    0.334038\n",
       "5    0.446089\n",
       "Name: size, dtype: float64"
      ]
     },
     "execution_count": 64,
     "metadata": {},
     "output_type": "execute_result"
    }
   ],
   "source": [
    "ipcc_context[\"size\"]/ipcc_numPaper"
   ]
  },
  {
   "cell_type": "code",
   "execution_count": 12,
   "id": "26ba15e4-53db-49ad-9d58-0a3e1b42fed6",
   "metadata": {},
   "outputs": [
    {
     "data": {
      "text/html": [
       "<div>\n",
       "<style scoped>\n",
       "    .dataframe tbody tr th:only-of-type {\n",
       "        vertical-align: middle;\n",
       "    }\n",
       "\n",
       "    .dataframe tbody tr th {\n",
       "        vertical-align: top;\n",
       "    }\n",
       "\n",
       "    .dataframe thead th {\n",
       "        text-align: right;\n",
       "    }\n",
       "</style>\n",
       "<table border=\"1\" class=\"dataframe\">\n",
       "  <thead>\n",
       "    <tr style=\"text-align: right;\">\n",
       "      <th></th>\n",
       "      <th>all_pred_context</th>\n",
       "      <th>size</th>\n",
       "      <th>col</th>\n",
       "    </tr>\n",
       "  </thead>\n",
       "  <tbody>\n",
       "    <tr>\n",
       "      <th>0</th>\n",
       "      <td>earth system</td>\n",
       "      <td>173</td>\n",
       "      <td>#e31a1c</td>\n",
       "    </tr>\n",
       "    <tr>\n",
       "      <th>1</th>\n",
       "      <td>equity &amp; ethics</td>\n",
       "      <td>54</td>\n",
       "      <td>#fb9a99</td>\n",
       "    </tr>\n",
       "    <tr>\n",
       "      <th>2</th>\n",
       "      <td>policy/government</td>\n",
       "      <td>1090</td>\n",
       "      <td>#33a02c</td>\n",
       "    </tr>\n",
       "    <tr>\n",
       "      <th>3</th>\n",
       "      <td>public perception</td>\n",
       "      <td>230</td>\n",
       "      <td>#b2df8a</td>\n",
       "    </tr>\n",
       "    <tr>\n",
       "      <th>4</th>\n",
       "      <td>socio-economic pathways</td>\n",
       "      <td>2633</td>\n",
       "      <td>#1f78b4</td>\n",
       "    </tr>\n",
       "    <tr>\n",
       "      <th>5</th>\n",
       "      <td>technology</td>\n",
       "      <td>25881</td>\n",
       "      <td>#a6cee3</td>\n",
       "    </tr>\n",
       "  </tbody>\n",
       "</table>\n",
       "</div>"
      ],
      "text/plain": [
       "          all_pred_context   size      col\n",
       "0             earth system    173  #e31a1c\n",
       "1          equity & ethics     54  #fb9a99\n",
       "2        policy/government   1090  #33a02c\n",
       "3        public perception    230  #b2df8a\n",
       "4  socio-economic pathways   2633  #1f78b4\n",
       "5               technology  25881  #a6cee3"
      ]
     },
     "execution_count": 12,
     "metadata": {},
     "output_type": "execute_result"
    }
   ],
   "source": [
    "context_ex"
   ]
  },
  {
   "cell_type": "code",
   "execution_count": 13,
   "id": "e3ff3885-d385-4a67-80da-83fad4bb10ed",
   "metadata": {},
   "outputs": [
    {
     "data": {
      "text/plain": [
       "0    0.005970\n",
       "1    0.001864\n",
       "2    0.037617\n",
       "3    0.007938\n",
       "4    0.090868\n",
       "5    0.893187\n",
       "Name: size, dtype: float64"
      ]
     },
     "execution_count": 13,
     "metadata": {},
     "output_type": "execute_result"
    }
   ],
   "source": [
    "context_ex[\"size\"]/all_numPaper"
   ]
  }
 ],
 "metadata": {
  "kernelspec": {
   "display_name": "net-env",
   "language": "python",
   "name": "net-env"
  },
  "language_info": {
   "codemirror_mode": {
    "name": "ipython",
    "version": 3
   },
   "file_extension": ".py",
   "mimetype": "text/x-python",
   "name": "python",
   "nbconvert_exporter": "python",
   "pygments_lexer": "ipython3",
   "version": "3.8.10"
  }
 },
 "nbformat": 4,
 "nbformat_minor": 5
}
